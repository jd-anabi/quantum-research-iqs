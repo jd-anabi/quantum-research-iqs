{
 "cells": [
  {
   "cell_type": "code",
   "execution_count": 1,
   "id": "45aed249",
   "metadata": {},
   "outputs": [],
   "source": [
    "from qiskit import *\n",
    "from qiskit.tools.visualization import plot_histogram, plot_state_city\n",
    "from math import pi, sqrt"
   ]
  },
  {
   "cell_type": "code",
   "execution_count": 11,
   "id": "c7a9767b",
   "metadata": {},
   "outputs": [
    {
     "data": {
      "text/html": [
       "<pre style=\"word-wrap: normal;white-space: pre;background: #fff0;line-height: 1.1;font-family: &quot;Courier New&quot;,Courier,monospace\">        ┌──────────────────────────────────┐┌───┐ ░ ┌─┐   \n",
       "   q_0: ┤0                                 ├┤ H ├─░─┤M├───\n",
       "        │  initialize(0.70711,0,0,0.70711) │├───┤ ░ └╥┘┌─┐\n",
       "   q_1: ┤1                                 ├┤ H ├─░──╫─┤M├\n",
       "        └──────────────────────────────────┘└───┘ ░  ║ └╥┘\n",
       "meas: 2/═════════════════════════════════════════════╩══╩═\n",
       "                                                     0  1 </pre>"
      ],
      "text/plain": [
       "        ┌──────────────────────────────────┐┌───┐ ░ ┌─┐   \n",
       "   q_0: ┤0                                 ├┤ H ├─░─┤M├───\n",
       "        │  initialize(0.70711,0,0,0.70711) │├───┤ ░ └╥┘┌─┐\n",
       "   q_1: ┤1                                 ├┤ H ├─░──╫─┤M├\n",
       "        └──────────────────────────────────┘└───┘ ░  ║ └╥┘\n",
       "meas: 2/═════════════════════════════════════════════╩══╩═\n",
       "                                                     0  1 "
      ]
     },
     "execution_count": 11,
     "metadata": {},
     "output_type": "execute_result"
    }
   ],
   "source": [
    "state = [1/sqrt(2), 0, 0, 1/sqrt(2)]\n",
    "\n",
    "qc = QuantumCircuit(2) # two qubit circuit\n",
    "qc.initialize(state)\n",
    "qc.h(0)\n",
    "qc.h(1)\n",
    "qc.measure_all()\n",
    "qc.draw()"
   ]
  },
  {
   "cell_type": "code",
   "execution_count": null,
   "id": "7a1142cc",
   "metadata": {},
   "outputs": [],
   "source": []
  }
 ],
 "metadata": {
  "kernelspec": {
   "display_name": "Python 3",
   "language": "python",
   "name": "python3"
  },
  "language_info": {
   "codemirror_mode": {
    "name": "ipython",
    "version": 3
   },
   "file_extension": ".py",
   "mimetype": "text/x-python",
   "name": "python",
   "nbconvert_exporter": "python",
   "pygments_lexer": "ipython3",
   "version": "3.9.5"
  }
 },
 "nbformat": 4,
 "nbformat_minor": 5
}
