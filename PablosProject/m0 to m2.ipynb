{
 "cells": [
  {
   "cell_type": "code",
   "execution_count": 1,
   "id": "75f3706a",
   "metadata": {},
   "outputs": [],
   "source": [
    "from qiskit import *\n",
    "from qiskit.tools.visualization import plot_histogram, plot_state_city\n",
    "from math import pi, sqrt\n",
    "from qiskit import transpile, QuantumCircuit\n",
    "import qiskit.quantum_info as qi\n",
    "\n",
    "from qiskit.providers.aer import AerSimulator\n",
    "from qiskit.providers.aer.noise import NoiseModel, amplitude_damping_error\n",
    "\n",
    "from qiskit.tools.visualization import plot_histogram\n"
   ]
  },
  {
   "cell_type": "code",
   "execution_count": 2,
   "id": "a3a362c5",
   "metadata": {},
   "outputs": [
    {
     "data": {
      "text/html": [
       "<pre style=\"word-wrap: normal;white-space: pre;background: #fff0;line-height: 1.1;font-family: &quot;Courier New&quot;,Courier,monospace\">        ┌──────────────────────┐┌───┐     ┌──────────────┐ ░ ┌─┐   \n",
       "   q_0: ┤0                     ├┤ X ├──■──┤ cust unitary ├─░─┤M├───\n",
       "        │  initialize(1,0,0,0) │├───┤┌─┴─┐└──────────────┘ ░ └╥┘┌─┐\n",
       "   q_1: ┤1                     ├┤ H ├┤ X ├─────────────────░──╫─┤M├\n",
       "        └──────────────────────┘└───┘└───┘                 ░  ║ └╥┘\n",
       "meas: 2/══════════════════════════════════════════════════════╩══╩═\n",
       "                                                              0  1 </pre>"
      ],
      "text/plain": [
       "        ┌──────────────────────┐┌───┐     ┌──────────────┐ ░ ┌─┐   \n",
       "   q_0: ┤0                     ├┤ X ├──■──┤ cust unitary ├─░─┤M├───\n",
       "        │  initialize(1,0,0,0) │├───┤┌─┴─┐└──────────────┘ ░ └╥┘┌─┐\n",
       "   q_1: ┤1                     ├┤ H ├┤ X ├─────────────────░──╫─┤M├\n",
       "        └──────────────────────┘└───┘└───┘                 ░  ║ └╥┘\n",
       "meas: 2/══════════════════════════════════════════════════════╩══╩═\n",
       "                                                              0  1 "
      ]
     },
     "execution_count": 2,
     "metadata": {},
     "output_type": "execute_result"
    }
   ],
   "source": [
    "state = [1, 0, 0, 0]\n",
    "\n",
    "qc = QuantumCircuit(2) # two qubit circuit\n",
    "qc.initialize(state)\n",
    "qc.x(0)\n",
    "qc.h(1)\n",
    "\n",
    "qc.cx(0,1) # adding cnot to bottom qubit\n",
    "\n",
    "\n",
    "custom_op = qi.Operator([[1j/sqrt(2),1/sqrt(2)], [-1j/sqrt(2), 1/sqrt(2)]])\n",
    "\n",
    "qc.unitary(custom_op, 0, label='cust unitary')\n",
    "\n",
    "\n",
    "qc.measure_all()\n",
    "qc.draw()"
   ]
  },
  {
   "cell_type": "code",
   "execution_count": 16,
   "id": "402c0515",
   "metadata": {},
   "outputs": [
    {
     "data": {
      "image/png": "[encoded data removed]",
      "text/plain": [
       "<Figure size 504x360 with 1 Axes>"
      ]
     },
     "execution_count": 16,
     "metadata": {},
     "output_type": "execute_result"
    }
   ],
   "source": [
    "# Transpile for simulator\n",
    "backend = Aer.get_backend('aer_simulator')\n",
    "qc = transpile(qc, backend)\n",
    "\n",
    "# Run and get counts\n",
    "result = backend.run(qc, shots = 500_00).result()\n",
    "counts = result.get_counts(qc)\n",
    "plot_histogram(counts, title='Product-State counts')"
   ]
  },
  {
   "cell_type": "code",
   "execution_count": null,
   "id": "93975c34",
   "metadata": {},
   "outputs": [],
   "source": []
  },
  {
   "cell_type": "code",
   "execution_count": null,
   "id": "cbe6f460",
   "metadata": {},
   "outputs": [],
   "source": []
  }
 ],
 "metadata": {
  "kernelspec": {
   "display_name": "Python 3",
   "language": "python",
   "name": "python3"
  },
  "language_info": {
   "codemirror_mode": {
    "name": "ipython",
    "version": 3
   },
   "file_extension": ".py",
   "mimetype": "text/x-python",
   "name": "python",
   "nbconvert_exporter": "python",
   "pygments_lexer": "ipython3",
   "version": "3.8.8"
  }
 },
 "nbformat": 4,
 "nbformat_minor": 5
}
