{
 "cells": [
  {
   "cell_type": "code",
   "execution_count": 11,
   "id": "6cc35203",
   "metadata": {},
   "outputs": [],
   "source": [
    "import numpy as np, quantum_decomp as qd\n",
    "from qiskit import *\n",
    "from qiskit.tools.visualization import plot_histogram, plot_state_city\n",
    "from math import pi, sqrt\n",
    "from qiskit import transpile, QuantumCircuit\n",
    "import qiskit.quantum_info as qi\n",
    "\n",
    "from qiskit.providers.aer import AerSimulator\n",
    "from qiskit.providers.aer.noise import NoiseModel, amplitude_damping_error\n",
    "\n",
    "from qiskit.tools.visualization import plot_histogram"
   ]
  },
  {
   "cell_type": "code",
   "execution_count": 12,
   "id": "3c8d232d",
   "metadata": {},
   "outputs": [
    {
     "name": "stdout",
     "output_type": "stream",
     "text": [
      "[[ 0.          0.          0.70710678  0.70710678]\n",
      " [ 0.70710678 -0.70710678  0.          0.        ]\n",
      " [ 0.70710678  0.70710678  0.          0.        ]\n",
      " [ 0.          0.         -0.70710678  0.70710678]]\n"
     ]
    }
   ],
   "source": [
    "A = np.array([[0, 0, 1, 1], \n",
    "              [1, -1, 0, 0],\n",
    "              [1, 1, 0, 0], \n",
    "              [0, 0, -1, 1]])/np.sqrt(2)\n",
    "print(A)"
   ]
  },
  {
   "cell_type": "code",
   "execution_count": 15,
   "id": "98ac0ac7",
   "metadata": {},
   "outputs": [
    {
     "name": "stdout",
     "output_type": "stream",
     "text": [
      "Rz(3.141592653589793) on bit 0, fully controlled\n",
      "Ry(1.5707963267948966) on bit 0, fully controlled\n",
      "Rz(-3.141592653589793) on bit 0, fully controlled\n",
      "X on bit 1, fully controlled\n",
      "X on bit 1\n",
      "X on bit 0, fully controlled\n",
      "X on bit 1\n",
      "Rz(-3.1415926535897927) on bit 1, fully controlled\n",
      "Ry(1.5707963267948968) on bit 1, fully controlled\n",
      "Rz(3.1415926535897927) on bit 1, fully controlled\n",
      "Ry(3.141592653589793) on bit 0, fully controlled\n"
     ]
    }
   ],
   "source": [
    "gates = qd.matrix_to_gates(A)\n",
    "print('\\n'.join(map(str, gates)))\n"
   ]
  },
  {
   "cell_type": "code",
   "execution_count": 16,
   "id": "e90e023a",
   "metadata": {
    "scrolled": true
   },
   "outputs": [
    {
     "name": "stdout",
     "output_type": "stream",
     "text": [
      "     ┌────────┐┌──────────┐┌───────┐          ┌───┐                          »\n",
      "q_0: ┤ Rz(-π) ├┤ Ry(-π/2) ├┤ Rz(π) ├──■───────┤ X ├─────────■─────────■──────»\n",
      "     └───┬────┘└────┬─────┘└───┬───┘┌─┴─┐┌───┐└─┬─┘┌───┐┌───┴───┐┌────┴─────┐»\n",
      "q_1: ────■──────────■──────────■────┤ X ├┤ X ├──■──┤ X ├┤ Rz(π) ├┤ Ry(-π/2) ├»\n",
      "                                    └───┘└───┘     └───┘└───────┘└──────────┘»\n",
      "«               ┌────────┐\n",
      "«q_0: ────■─────┤ Ry(-π) ├\n",
      "«     ┌───┴────┐└───┬────┘\n",
      "«q_1: ┤ Rz(-π) ├────■─────\n",
      "«     └────────┘          \n"
     ]
    }
   ],
   "source": [
    ">>> A_qiskit = (qd.matrix_to_qiskit_circuit(A))\n",
    "print(A_qiskit)"
   ]
  },
  {
   "cell_type": "code",
   "execution_count": 19,
   "id": "856a56a7",
   "metadata": {},
   "outputs": [
    {
     "data": {
      "text/plain": [
       "3.99404539060201e-16"
      ]
     },
     "execution_count": 19,
     "metadata": {},
     "output_type": "execute_result"
    }
   ],
   "source": [
    "# Verify correctness of decompostion.\n",
    "import qiskit.quantum_info as qi\n",
    "np.linalg.norm(qi.Operator(A_qiskit).data - A)"
   ]
  },
  {
   "cell_type": "code",
   "execution_count": null,
   "id": "494a5553",
   "metadata": {},
   "outputs": [],
   "source": []
  }
 ],
 "metadata": {
  "kernelspec": {
   "display_name": "Python 3",
   "language": "python",
   "name": "python3"
  },
  "language_info": {
   "codemirror_mode": {
    "name": "ipython",
    "version": 3
   },
   "file_extension": ".py",
   "mimetype": "text/x-python",
   "name": "python",
   "nbconvert_exporter": "python",
   "pygments_lexer": "ipython3",
   "version": "3.8.8"
  }
 },
 "nbformat": 4,
 "nbformat_minor": 5
}
