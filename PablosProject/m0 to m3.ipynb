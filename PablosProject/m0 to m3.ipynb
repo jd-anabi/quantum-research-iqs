{
 "cells": [
  {
   "cell_type": "code",
   "execution_count": 2,
   "id": "b6e952c7",
   "metadata": {},
   "outputs": [],
   "source": [
    "from qiskit import *\n",
    "from qiskit.tools.visualization import plot_histogram, plot_state_city\n",
    "from math import pi, sqrt\n",
    "from qiskit import transpile, QuantumCircuit\n",
    "import qiskit.quantum_info as qi\n",
    "\n",
    "from qiskit.providers.aer import AerSimulator\n",
    "from qiskit.providers.aer.noise import NoiseModel, amplitude_damping_error\n",
    "\n",
    "from qiskit.tools.visualization import plot_histogram"
   ]
  },
  {
   "cell_type": "code",
   "execution_count": 3,
   "id": "146edcc8",
   "metadata": {},
   "outputs": [
    {
     "data": {
      "text/html": [
       "<pre style=\"word-wrap: normal;white-space: pre;background: #fff0;line-height: 1.1;font-family: &quot;Courier New&quot;,Courier,monospace\">        ┌──────────────────────┐┌──────────────┐ ░ ┌─┐   \n",
       "   q_0: ┤0                     ├┤ cust unitary ├─░─┤M├───\n",
       "        │  initialize(1,0,0,0) │├──────────────┤ ░ └╥┘┌─┐\n",
       "   q_1: ┤1                     ├┤ cust unitary ├─░──╫─┤M├\n",
       "        └──────────────────────┘└──────────────┘ ░  ║ └╥┘\n",
       "meas: 2/════════════════════════════════════════════╩══╩═\n",
       "                                                    0  1 </pre>"
      ],
      "text/plain": [
       "        ┌──────────────────────┐┌──────────────┐ ░ ┌─┐   \n",
       "   q_0: ┤0                     ├┤ cust unitary ├─░─┤M├───\n",
       "        │  initialize(1,0,0,0) │├──────────────┤ ░ └╥┘┌─┐\n",
       "   q_1: ┤1                     ├┤ cust unitary ├─░──╫─┤M├\n",
       "        └──────────────────────┘└──────────────┘ ░  ║ └╥┘\n",
       "meas: 2/════════════════════════════════════════════╩══╩═\n",
       "                                                    0  1 "
      ]
     },
     "execution_count": 3,
     "metadata": {},
     "output_type": "execute_result"
    }
   ],
   "source": [
    "state = [1, 0, 0, 0]\n",
    "\n",
    "qc = QuantumCircuit(2) # two qubit circuit\n",
    "qc.initialize(state)\n",
    "\n",
    "\n",
    "# QUESTION, DID I HAVE TO TAKE THE CONJUGATE TRANSPOSE OF BELOW?\n",
    "# conjugate transpose of (1/sqrt(2))[[1, -i], [1, i]]\n",
    "custom_op = qi.Operator([[1/sqrt(2), 1j/sqrt(2)], [1/sqrt(2), -1j/sqrt(2)]]) \n",
    "\n",
    "qc.unitary(custom_op, 0, label='cust unitary')\n",
    "qc.unitary(custom_op, 1, label='cust unitary')\n",
    "\n",
    "\n",
    "\n",
    "qc.measure_all()\n",
    "qc.draw()\n",
    "\n"
   ]
  },
  {
   "cell_type": "code",
   "execution_count": 18,
   "id": "6b71926f",
   "metadata": {},
   "outputs": [
    {
     "data": {
      "image/png": "[encoded data removed]",
      "text/plain": [
       "<Figure size 504x360 with 1 Axes>"
      ]
     },
     "execution_count": 18,
     "metadata": {},
     "output_type": "execute_result"
    }
   ],
   "source": [
    "# Transpile for simulator\n",
    "backend = Aer.get_backend('aer_simulator')\n",
    "qc = transpile(qc, backend)\n",
    "\n",
    "# Run and get counts\n",
    "result = backend.run(qc, shots = 100_000).result()\n",
    "counts = result.get_counts(qc)\n",
    "plot_histogram(counts, title='Product-State counts')"
   ]
  },
  {
   "cell_type": "code",
   "execution_count": null,
   "id": "2f09e5c8",
   "metadata": {},
   "outputs": [],
   "source": []
  }
 ],
 "metadata": {
  "kernelspec": {
   "display_name": "Python 3",
   "language": "python",
   "name": "python3"
  },
  "language_info": {
   "codemirror_mode": {
    "name": "ipython",
    "version": 3
   },
   "file_extension": ".py",
   "mimetype": "text/x-python",
   "name": "python",
   "nbconvert_exporter": "python",
   "pygments_lexer": "ipython3",
   "version": "3.8.8"
  }
 },
 "nbformat": 4,
 "nbformat_minor": 5
}
