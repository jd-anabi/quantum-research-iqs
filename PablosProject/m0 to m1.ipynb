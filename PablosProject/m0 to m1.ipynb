{
 "cells": [
  {
   "cell_type": "code",
   "execution_count": 2,
   "id": "2d9ef1d2",
   "metadata": {},
   "outputs": [],
   "source": [
    "from qiskit import *\n",
    "from qiskit.tools.visualization import plot_histogram, plot_state_city\n",
    "from math import pi, sqrt"
   ]
  },
  {
   "cell_type": "code",
   "execution_count": 3,
   "id": "40fc18d9",
   "metadata": {},
   "outputs": [
    {
     "data": {
      "text/html": [
       "<pre style=\"word-wrap: normal;white-space: pre;background: #fff0;line-height: 1.1;font-family: &quot;Courier New&quot;,Courier,monospace\">        ┌──────────────────────┐┌───┐ ░ ┌─┐   \n",
       "   q_0: ┤0                     ├┤ H ├─░─┤M├───\n",
       "        │  initialize(1,0,0,0) │├───┤ ░ └╥┘┌─┐\n",
       "   q_1: ┤1                     ├┤ H ├─░──╫─┤M├\n",
       "        └──────────────────────┘└───┘ ░  ║ └╥┘\n",
       "meas: 2/═════════════════════════════════╩══╩═\n",
       "                                         0  1 </pre>"
      ],
      "text/plain": [
       "        ┌──────────────────────┐┌───┐ ░ ┌─┐   \n",
       "   q_0: ┤0                     ├┤ H ├─░─┤M├───\n",
       "        │  initialize(1,0,0,0) │├───┤ ░ └╥┘┌─┐\n",
       "   q_1: ┤1                     ├┤ H ├─░──╫─┤M├\n",
       "        └──────────────────────┘└───┘ ░  ║ └╥┘\n",
       "meas: 2/═════════════════════════════════╩══╩═\n",
       "                                         0  1 "
      ]
     },
     "execution_count": 3,
     "metadata": {},
     "output_type": "execute_result"
    }
   ],
   "source": [
    "state = [1, 0, 0, 0]\n",
    "\n",
    "qc = QuantumCircuit(2) # two qubit circuit\n",
    "qc.initialize(state)\n",
    "qc.h(0)\n",
    "qc.h(1)\n",
    "qc.measure_all()\n",
    "qc.draw()"
   ]
  },
  {
   "cell_type": "code",
   "execution_count": 21,
   "id": "2f171ff0",
   "metadata": {},
   "outputs": [
    {
     "data": {
      "image/png": "[encoded data removed]",
      "text/plain": [
       "<Figure size 504x360 with 1 Axes>"
      ]
     },
     "execution_count": 21,
     "metadata": {},
     "output_type": "execute_result"
    }
   ],
   "source": [
    "# Transpile for simulator\n",
    "backend = Aer.get_backend('aer_simulator')\n",
    "qc = transpile(qc, backend)\n",
    "\n",
    "# Run and get counts\n",
    "result = backend.run(qc, shots = 300_000).result()\n",
    "counts = result.get_counts(qc)\n",
    "plot_histogram(counts, title='Product-State counts')"
   ]
  },
  {
   "cell_type": "code",
   "execution_count": null,
   "id": "4b7f7163",
   "metadata": {},
   "outputs": [],
   "source": []
  }
 ],
 "metadata": {
  "kernelspec": {
   "display_name": "Python 3",
   "language": "python",
   "name": "python3"
  },
  "language_info": {
   "codemirror_mode": {
    "name": "ipython",
    "version": 3
   },
   "file_extension": ".py",
   "mimetype": "text/x-python",
   "name": "python",
   "nbconvert_exporter": "python",
   "pygments_lexer": "ipython3",
   "version": "3.8.8"
  }
 },
 "nbformat": 4,
 "nbformat_minor": 5
}
