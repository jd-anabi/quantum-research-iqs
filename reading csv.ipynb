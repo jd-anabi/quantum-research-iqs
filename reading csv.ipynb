{
 "cells": [
  {
   "cell_type": "code",
   "execution_count": 71,
   "id": "bc95ea89",
   "metadata": {},
   "outputs": [],
   "source": [
    "import numpy as np, quantum_decomp as qd\n",
    "from qiskit import *\n",
    "from qiskit.tools.visualization import plot_histogram, plot_state_city\n",
    "from math import pi, sqrt\n",
    "from qiskit import transpile, QuantumCircuit\n",
    "import qiskit.quantum_info as qi\n",
    "\n",
    "from qiskit.providers.aer import AerSimulator\n",
    "from qiskit.providers.aer.noise import NoiseModel, amplitude_damping_error\n",
    "\n",
    "from qiskit.tools.visualization import plot_histogram"
   ]
  },
  {
   "cell_type": "code",
   "execution_count": 72,
   "id": "f155434a",
   "metadata": {},
   "outputs": [
    {
     "data": {
      "text/plain": [
       "<qiskit.circuit.instructionset.InstructionSet at 0x7fe9368c8f70>"
      ]
     },
     "execution_count": 72,
     "metadata": {},
     "output_type": "execute_result"
    }
   ],
   "source": [
    "state1 = [1, 0, 0, 0]\n",
    "state2 = [0.5, 0.5, 0.5, 0.5]\n",
    "state3 = [0.5, -0.5, 0.5, -0.5]\n",
    "\n",
    "\n",
    "\n",
    "qc_1 = QuantumCircuit(2) # two qubit circuit\n",
    "qc_1.initialize(state3)"
   ]
  },
  {
   "cell_type": "code",
   "execution_count": 73,
   "id": "3ded6148",
   "metadata": {},
   "outputs": [
    {
     "name": "stdout",
     "output_type": "stream",
     "text": [
      "[[ 0.        +0.j  0.40824829+0.j -0.81649658+0.j  0.40824829+0.j]\n",
      " [-0.8660254 +0.j  0.28867514+0.j  0.28867514+0.j  0.28867514+0.j]\n",
      " [-0.5       +0.j -0.5       +0.j -0.5       +0.j -0.5       +0.j]\n",
      " [ 0.        +0.j  0.70710678+0.j  0.        +0.j -0.70710678+0.j]]\n"
     ]
    }
   ],
   "source": [
    "A = np.array([[0, 0.40824829, -0.816496581, 0.40824829], \n",
    "              [-0.866025404, 0.288675135, 0.288675135, 0.288675135], \n",
    "              [-0.5, -0.5, -0.5, -0.5], \n",
    "              [0, 0.707106781, 0, -0.707106781]], dtype=complex)\n",
    "print(A)"
   ]
  },
  {
   "cell_type": "code",
   "execution_count": 74,
   "id": "6958dc07",
   "metadata": {},
   "outputs": [],
   "source": [
    "A = np.transpose(A)"
   ]
  },
  {
   "cell_type": "code",
   "execution_count": 75,
   "id": "15621b49",
   "metadata": {
    "scrolled": true
   },
   "outputs": [
    {
     "name": "stdout",
     "output_type": "stream",
     "text": [
      "[[ 0.        +0.j -0.8660254 +0.j -0.5       +0.j  0.        +0.j]\n",
      " [ 0.40824829+0.j  0.28867514+0.j -0.5       +0.j  0.70710678+0.j]\n",
      " [-0.81649658+0.j  0.28867514+0.j -0.5       +0.j  0.        +0.j]\n",
      " [ 0.40824829+0.j  0.28867514+0.j -0.5       +0.j -0.70710678+0.j]]\n"
     ]
    }
   ],
   "source": [
    "print(A)"
   ]
  },
  {
   "cell_type": "code",
   "execution_count": 79,
   "id": "0d983849",
   "metadata": {},
   "outputs": [],
   "source": [
    "qc_2 = qd.matrix_to_qiskit_circuit(A)"
   ]
  },
  {
   "cell_type": "code",
   "execution_count": 80,
   "id": "c729fd2c",
   "metadata": {},
   "outputs": [],
   "source": [
    "qc_1 = qc_1.compose((qc_2))"
   ]
  },
  {
   "cell_type": "code",
   "execution_count": 81,
   "id": "3eb19a98",
   "metadata": {},
   "outputs": [
    {
     "name": "stdout",
     "output_type": "stream",
     "text": [
      "     ┌────────────────────────────────┐┌───┐                            ┌───┐»\n",
      "q_0: ┤0                               ├┤ X ├─────■───────────■──────────┤ X ├»\n",
      "     │  Initialize(0.5,-0.5,0.5,-0.5) │└─┬─┘┌────┴─────┐┌────┴────┐┌───┐└─┬─┘»\n",
      "q_1: ┤1                               ├──■──┤ Ry(-π/3) ├┤ Rz(-2π) ├┤ X ├──■──»\n",
      "     └────────────────────────────────┘     └──────────┘└─────────┘└───┘     »\n",
      "«          ┌────────┐┌─────────────┐┌───────┐               ┌────────┐»\n",
      "«q_0: ─────┤ Rz(-π) ├┤ Ry(-1.7722) ├┤ Rz(π) ├───────■───────┤ Rz(-π) ├»\n",
      "«     ┌───┐└───┬────┘└──────┬──────┘└───┬───┘┌──────┴──────┐└───┬────┘»\n",
      "«q_1: ┤ X ├────■────────────■───────────■────┤ Ry(-2.3005) ├────■─────»\n",
      "«     └───┘                                  └─────────────┘          »\n",
      "«     ┌─────────────┐┌────────┐\n",
      "«q_0: ┤ Ry(-2.2143) ├┤ Rz(-π) ├\n",
      "«     └──────┬──────┘└───┬────┘\n",
      "«q_1: ───────■───────────■─────\n",
      "«                              \n"
     ]
    }
   ],
   "source": [
    "print(qc_1)"
   ]
  },
  {
   "cell_type": "code",
   "execution_count": null,
   "id": "4f6c372d",
   "metadata": {},
   "outputs": [],
   "source": []
  }
 ],
 "metadata": {
  "kernelspec": {
   "display_name": "Python 3",
   "language": "python",
   "name": "python3"
  },
  "language_info": {
   "codemirror_mode": {
    "name": "ipython",
    "version": 3
   },
   "file_extension": ".py",
   "mimetype": "text/x-python",
   "name": "python",
   "nbconvert_exporter": "python",
   "pygments_lexer": "ipython3",
   "version": "3.8.8"
  }
 },
 "nbformat": 4,
 "nbformat_minor": 5
}
